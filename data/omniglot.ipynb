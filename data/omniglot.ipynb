{
 "cells": [
  {
   "cell_type": "code",
   "execution_count": 4,
   "metadata": {},
   "outputs": [
    {
     "data": {
      "text/plain": [
       "(1623, 20, 3)"
      ]
     },
     "execution_count": 4,
     "metadata": {},
     "output_type": "execute_result"
    }
   ],
   "source": [
    "import pandas as pd\n",
    "import numpy as np\n",
    "import os\n",
    "\n",
    "data = np.load('omniglot.npy', allow_pickle=True)\n",
    "data.shape\n",
    "\n",
    "# ALL CHARACHTERS x all Launguages (1623)\n",
    "    # 20 Images/Samples Per Character\n",
    "        # 3  Pieces of Info for Each Charachter Image\n",
    "            #[0] - Image (28x28) image\n",
    "            #[1] - Charchter Number (in aplhabet)\n",
    "            #[2] - Language Number (in list of language directories)"
   ]
  },
  {
   "cell_type": "code",
   "execution_count": 6,
   "metadata": {},
   "outputs": [
    {
     "data": {
      "text/plain": [
       "(20, 3)"
      ]
     },
     "execution_count": 6,
     "metadata": {},
     "output_type": "execute_result"
    }
   ],
   "source": [
    "data[0].shape"
   ]
  },
  {
   "cell_type": "code",
   "execution_count": 17,
   "metadata": {},
   "outputs": [],
   "source": [
    "charachter_images=data[0]"
   ]
  },
  {
   "cell_type": "code",
   "execution_count": 24,
   "metadata": {},
   "outputs": [
    {
     "name": "stdout",
     "output_type": "stream",
     "text": [
      "(3,)\n"
     ]
    }
   ],
   "source": [
    "char = charachter_images[0]\n",
    "print(char.shape)\n",
    "\n",
    "img, character_num, language_num = char"
   ]
  }
 ],
 "metadata": {
  "kernelspec": {
   "display_name": "Python 3.7.13 ('flow1')",
   "language": "python",
   "name": "python3"
  },
  "language_info": {
   "codemirror_mode": {
    "name": "ipython",
    "version": 3
   },
   "file_extension": ".py",
   "mimetype": "text/x-python",
   "name": "python",
   "nbconvert_exporter": "python",
   "pygments_lexer": "ipython3",
   "version": "3.7.13"
  },
  "orig_nbformat": 4,
  "vscode": {
   "interpreter": {
    "hash": "02b713c2907d9ec3e75f9997c30821fa46485eb357aca116b67f32755273915a"
   }
  }
 },
 "nbformat": 4,
 "nbformat_minor": 2
}
