{
 "cells": [
  {
   "cell_type": "code",
   "execution_count": 1,
   "metadata": {},
   "outputs": [],
   "source": [
    "\n",
    "import os\n",
    "import sys\n",
    "import numpy as np\n",
    "import json as json\n",
    "import pandas as pd\n",
    "from datetime import datetime\n",
    "\n",
    "# General Paths\n",
    "data_path = os.getcwd()\n",
    "project_path = os.path.dirname(data_path)\n",
    "benchmarks_path = os.path.join(project_path, 'benchmarks')\n",
    "\n",
    "SKAB_path = os.path.join(benchmarks_path, 'SKAB')\n",
    "SKAB_dataset = os.path.join(SKAB_path, 'data')\n",
    "SKAB_labels = os.path.join(SKAB_path, 'labels')\n",
    "\n",
    "SKAB_clean_path = os.path.join(data_path, 'SKAB')\n"
   ]
  },
  {
   "cell_type": "code",
   "execution_count": 2,
   "metadata": {},
   "outputs": [],
   "source": [
    "# Load the Task Manifest\n",
    "task_manifest = {\n",
    "    \"anomaly-free\": {\n",
    "        \"dataset\": \"SKAB\",\n",
    "        \"name\": \"anomaly-free\",\n",
    "        \"anomaly_keys\": []\n",
    "    },\n",
    "    \"other\": {\n",
    "        \"dataset\": \"SKAB\",\n",
    "        \"name\": \"other\",\n",
    "        \"anomaly_keys\": [\"anomaly\", \"changepoint\"]\n",
    "    },\n",
    "    \"valve1\": {\n",
    "        \"dataset\": \"SKAB\",\n",
    "        \"name\": \"valve1\",\n",
    "        \"anomaly_keys\": [\"anomaly\", \"changepoint\"]\n",
    "    },\n",
    "    \"valve2\": {\n",
    "        \"dataset\": \"SKAB\",\n",
    "        \"name\": \"valve2\",\n",
    "        \"anomaly_keys\": [\"anomaly\", \"changepoint\"]\n",
    "    }\n",
    "}"
   ]
  },
  {
   "cell_type": "code",
   "execution_count": 3,
   "metadata": {},
   "outputs": [],
   "source": [
    "# Datasets\n",
    "datasets = {\n",
    "    'SKAB': {\n",
    "        'path': SKAB_dataset,\n",
    "        # 'labels': get_nab_labels,\n",
    "        'ts_name': 'datetime'\n",
    "    },\n",
    "}\n"
   ]
  },
  {
   "cell_type": "code",
   "execution_count": 4,
   "metadata": {},
   "outputs": [
    {
     "name": "stdout",
     "output_type": "stream",
     "text": [
      "(38, 20, 2)\n"
     ]
    },
    {
     "name": "stderr",
     "output_type": "stream",
     "text": [
      "<ipython-input-4-36e8c673d5fe>:75: VisibleDeprecationWarning: Creating an ndarray from ragged nested sequences (which is a list-or-tuple of lists-or-tuples-or ndarrays with different lengths or shapes) is deprecated. If you meant to do this, you must specify 'dtype=object' when creating the ndarray.\n",
      "  data = np.array(data)\n"
     ]
    }
   ],
   "source": [
    "data = []\n",
    "\n",
    "anoms = []\n",
    "\n",
    "# Loop through each of the individual Tasks in the Dataset\n",
    "for task_family_number, (task_family_name, task_data) in enumerate(task_manifest.items()):\n",
    "    \n",
    "    # Make the Directory for the Task\n",
    "    proml_task_family = os.path.join(SKAB_clean_path, task_family_name)\n",
    "    if not os.path.exists(proml_task_family):\n",
    "        os.makedirs(proml_task_family)\n",
    "\n",
    "    # Loop through the Data Files in the Task Dataset\n",
    "    task_path = os.path.join(datasets[task_data['dataset']]['path'], task_data['name'])\n",
    "    for i, task_file in enumerate(os.listdir(task_path)):\n",
    "        \n",
    "        # Get the Name of the Data File for the given Family\n",
    "        task_file_name, _ = task_file.split('.')\n",
    "\n",
    "        task_file_path = os.path.join(task_path, task_file)\n",
    "        task_df = pd.read_csv(task_file_path, sep=';')\n",
    "\n",
    "        # Loop thrugh the Task Data to Create Frames Consistent Size\n",
    "        splits_per_task = 20\n",
    "        split_nu = 0\n",
    "        split_size = 50\n",
    "        split_start = 0\n",
    "        split_end = split_size\n",
    "        # (While we can still get 20(tracks)x50(samples)\n",
    "        while split_start + (split_size*splits_per_task) < len(task_df): \n",
    "\n",
    "            # Make the Charachter Directory\n",
    "            char_name = f\"{task_file_name}_{split_nu}\"\n",
    "            char_path = os.path.join(proml_task_family, char_name)\n",
    "            if not os.path.exists(char_path):\n",
    "                os.makedirs(char_path)\n",
    "\n",
    "            # Make Sure there are 20 Samples\n",
    "            group_samples = []\n",
    "            for j in range(splits_per_task):\n",
    "\n",
    "                # DO THE SPLITZ\n",
    "                split_df = task_df.iloc[split_start:split_end, :]\n",
    "                split_start += split_size\n",
    "                split_end += split_size\n",
    "\n",
    "                # Check to See if there is an ANOM in the SPLIT\n",
    "                is_anom = False\n",
    "                for anomaly_key in task_data['anomaly_keys']:\n",
    "                    split_anomaly_labels = split_df[anomaly_key].values\n",
    "\n",
    "                    if any([True if i == 1 else False for i in split_anomaly_labels ]):\n",
    "                        is_anom = True\n",
    "\n",
    "                # Remove the TS / Drop Columns for Anomaly Labels\n",
    "                cols_to_drop = ['datetime']\n",
    "                cols_to_drop.extend(task_data['anomaly_keys'])\n",
    "                split_df = split_df.drop(labels=cols_to_drop, axis=1)\n",
    "\n",
    "                # Save the Dataframe to a new ProML folder\n",
    "                proml_file_path = os.path.join(char_path, f'{j+1}.csv')\n",
    "                split_df.to_csv(proml_file_path, index=False)\n",
    "\n",
    "                # Add the Sample to Tensor to be Loaded by VERSA\n",
    "                split_arr = split_df.values.tolist()\n",
    "                group_samples.append((np.array(split_arr), int(is_anom)))\n",
    "                anoms.append(int(is_anom))\n",
    "            \n",
    "            # Append Data\n",
    "            data.append(group_samples)\n",
    "\n",
    "            # Increment Split NU\n",
    "            split_nu += 1\n",
    "\n",
    "data = np.array(data)\n",
    "print(data.shape)\n",
    "np.save('skab.npy', data)\n"
   ]
  },
  {
   "cell_type": "code",
   "execution_count": 5,
   "metadata": {},
   "outputs": [
    {
     "data": {
      "text/plain": [
       "0.32894736842105265"
      ]
     },
     "execution_count": 5,
     "metadata": {},
     "output_type": "execute_result"
    }
   ],
   "source": [
    "sum(anoms)/len(anoms)"
   ]
  }
 ],
 "metadata": {
  "kernelspec": {
   "display_name": "Python 3.9.4 ('streamlit')",
   "language": "python",
   "name": "python3"
  },
  "language_info": {
   "codemirror_mode": {
    "name": "ipython",
    "version": 3
   },
   "file_extension": ".py",
   "mimetype": "text/x-python",
   "name": "python",
   "nbconvert_exporter": "python",
   "pygments_lexer": "ipython3",
   "version": "3.9.4"
  },
  "orig_nbformat": 4,
  "vscode": {
   "interpreter": {
    "hash": "05771ddf6cc9808c65ecfecedb17ea5107db21b280be39de8744520a2f3b8896"
   }
  }
 },
 "nbformat": 4,
 "nbformat_minor": 2
}
