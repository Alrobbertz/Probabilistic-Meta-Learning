{
 "cells": [
  {
   "cell_type": "code",
   "execution_count": 1,
   "metadata": {},
   "outputs": [],
   "source": [
    "\n",
    "import os\n",
    "import sys\n",
    "import numpy as np\n",
    "import json as json\n",
    "import pandas as pd\n",
    "from datetime import datetime\n",
    "\n",
    "# General Paths\n",
    "data_path = os.getcwd()\n",
    "project_path = os.path.dirname(data_path)\n",
    "benchmarks_path = os.path.join(project_path, 'benchmarks')\n",
    "\n",
    "NAB_path = os.path.join(benchmarks_path, 'NAB')\n",
    "NAB_dataset = os.path.join(NAB_path, 'data')\n",
    "NAB_labels = os.path.join(NAB_path, 'labels')\n",
    "\n",
    "NAB_clean_path = os.path.join(data_path, 'NAB')\n",
    "\n",
    "# ALL TS x all Task Families 345\n",
    "    # 20 TS Per (TaskFamilyxTask)\n",
    "        # 3  Pieces of Info for Each Charachter Image\n",
    "            #[0] - Time Series ( [50] Vector ) \n",
    "            #[1] - Charchter Number (in aplhabet)\n",
    "            #[2] - Language Number (in list of language directories)b\n",
    "\n",
    "# Num Sequences: 6900\n",
    "# Num Anomalies: 107\n",
    "# Class Balance = 0.015507246376811595\n",
    "\n",
    "# 345*0.8 = 276\n",
    "# 345-275 = 70\n"
   ]
  },
  {
   "cell_type": "code",
   "execution_count": 2,
   "metadata": {},
   "outputs": [],
   "source": [
    "# Load the Task Manifest\n",
    "task_manifest = {\n",
    "    \"artificialNoAnomaly\": {\n",
    "        \"dataset\": \"NAB\",\n",
    "        \"name\": \"artificialNoAnomaly\"\n",
    "    },\n",
    "    \"artificialWithAnomaly\": {\n",
    "        \"dataset\": \"NAB\",\n",
    "        \"name\": \"artificialWithAnomaly\"\n",
    "    },\n",
    "    \"realAdExchange\": {\n",
    "        \"dataset\": \"NAB\",\n",
    "        \"name\": \"realAdExchange\"\n",
    "    },\n",
    "    \"realAWSCloudwatch\": {\n",
    "        \"dataset\": \"NAB\",\n",
    "        \"name\": \"realAWSCloudwatch\"\n",
    "    },\n",
    "    \"realKnownCause\": {\n",
    "        \"dataset\": \"NAB\",\n",
    "        \"name\": \"realKnownCause\"\n",
    "    },\n",
    "    \"realTraffic\": {\n",
    "        \"dataset\": \"NAB\",\n",
    "        \"name\": \"realTraffic\"\n",
    "    },\n",
    "    \"realTweets\": {\n",
    "        \"dataset\": \"NAB\",\n",
    "        \"name\": \"realTweets\"\n",
    "    }\n",
    "}"
   ]
  },
  {
   "cell_type": "code",
   "execution_count": 3,
   "metadata": {},
   "outputs": [],
   "source": [
    "# Datasets\n",
    "datasets = {\n",
    "    'NAB': {\n",
    "        'path': NAB_dataset,\n",
    "        # 'labels': get_nab_labels,\n",
    "        'ts_name': 'timestamp'\n",
    "    },\n",
    "}\n"
   ]
  },
  {
   "cell_type": "code",
   "execution_count": 4,
   "metadata": {},
   "outputs": [],
   "source": [
    "# Load the Original Lables\n",
    "benchmark_labels = {}\n",
    "labels_file = os.path.join(NAB_labels, 'combined_labels.json')\n",
    "with open(labels_file, 'r') as f:\n",
    "    benchmark_labels = json.load(f)"
   ]
  },
  {
   "cell_type": "code",
   "execution_count": 5,
   "metadata": {},
   "outputs": [
    {
     "name": "stdout",
     "output_type": "stream",
     "text": [
      "(345, 20, 2)\n"
     ]
    },
    {
     "name": "stderr",
     "output_type": "stream",
     "text": [
      "/Users/andrewrobbertz/opt/anaconda3/envs/flow1/lib/python3.7/site-packages/ipykernel_launcher.py:83: VisibleDeprecationWarning: Creating an ndarray from ragged nested sequences (which is a list-or-tuple of lists-or-tuples-or ndarrays with different lengths or shapes) is deprecated. If you meant to do this, you must specify 'dtype=object' when creating the ndarray.\n"
     ]
    }
   ],
   "source": [
    "data = []\n",
    "\n",
    "anoms = []\n",
    "\n",
    "# Loop through each of the individual Tasks in the Dataset\n",
    "for task_family_number, (task_family_name, task_data) in enumerate(task_manifest.items()):\n",
    "    \n",
    "    # Make the Directory for the Task\n",
    "    proml_task_family = os.path.join(NAB_clean_path, task_family_name)\n",
    "    if not os.path.exists(proml_task_family):\n",
    "        os.makedirs(proml_task_family)\n",
    "\n",
    "    # Loop through the Data Files in the Task Dataset\n",
    "    task_path = os.path.join(datasets[task_data['dataset']]['path'], task_data['name'])\n",
    "    for i, task_file in enumerate(os.listdir(task_path)):\n",
    "        \n",
    "        # Get the Name of the Data File for the given Family\n",
    "        task_file_name, _ = task_file.split('.')\n",
    "\n",
    "        task_file_path = os.path.join(task_path, task_file)\n",
    "        task_df = pd.read_csv(task_file_path)\n",
    "\n",
    "        # Get the Benchmark Labels for the Given Task\n",
    "        benchmark_labels_key = f\"{task_family_name}/{task_file}\"\n",
    "        benchmark_task_labels = benchmark_labels[benchmark_labels_key]\n",
    "\n",
    "        # Do Any Datset Cleaning we want\n",
    "        task_df.rename({datasets[task_data['dataset']]['ts_name']: 'timestamp'}, inplace=True)\n",
    "\n",
    "\n",
    "        # Loop thrugh the Task Data to Create Frames Consistent Size\n",
    "        splits_per_task = 20\n",
    "        split_nu = 0\n",
    "        split_size = 50\n",
    "        split_start = 0\n",
    "        split_end = split_size\n",
    "        # (While we can still get 20(tracks)x50(samples)\n",
    "        while split_start + (split_size*splits_per_task) < len(task_df): \n",
    "\n",
    "            # Make the Charachter Directory\n",
    "            char_name = f\"{task_file_name}_{split_nu}\"\n",
    "            char_path = os.path.join(proml_task_family, char_name)\n",
    "            if not os.path.exists(char_path):\n",
    "                os.makedirs(char_path)\n",
    "\n",
    "            # Make Sure there are 20 Samples\n",
    "            group_samples = []\n",
    "            for j in range(splits_per_task):\n",
    "\n",
    "                # DO THE SPLITZ\n",
    "                split_df = task_df.iloc[split_start:split_end, :]\n",
    "                split_start += split_size\n",
    "                split_end += split_size\n",
    "\n",
    "                # Check to See if there is an ANOM in the SPLIT\n",
    "                is_anom = False\n",
    "                for anom_ts in benchmark_task_labels:\n",
    "                    anom_ts_dt = datetime.strptime(anom_ts, \"%Y-%m-%d %H:%M:%S\")\n",
    "                    split_start_dt = datetime.strptime(split_df.iloc[0]['timestamp'], \"%Y-%m-%d %H:%M:%S\")\n",
    "                    split_end_dt = datetime.strptime(split_df.iloc[-1]['timestamp'], \"%Y-%m-%d %H:%M:%S\")\n",
    "\n",
    "                    if split_start_dt <= anom_ts_dt and anom_ts_dt <=  split_end_dt:\n",
    "                        is_anom = True\n",
    "\n",
    "                # Remove the TS\n",
    "                split_df = split_df['value']\n",
    "\n",
    "                # Save the Dataframe to a new ProML folder\n",
    "                proml_file_path = os.path.join(char_path, f'{j+1}.csv')\n",
    "                split_df.to_csv(proml_file_path, index=False)\n",
    "\n",
    "                # Add the Sample to Tensor to be Loaded by VERSA\n",
    "                split_arr = split_df.values.tolist()\n",
    "                group_samples.append((np.array(split_arr), int(is_anom)))\n",
    "                anoms.append(int(is_anom))\n",
    "            \n",
    "            # Append Data\n",
    "            data.append(group_samples)\n",
    "\n",
    "            # Increment Split NU\n",
    "            split_nu += 1\n",
    "\n",
    "data = np.array(data)\n",
    "print(data.shape)\n",
    "np.save('nab.npy', data)"
   ]
  },
  {
   "cell_type": "code",
   "execution_count": 6,
   "metadata": {},
   "outputs": [
    {
     "data": {
      "text/plain": [
       "0.015507246376811595"
      ]
     },
     "execution_count": 6,
     "metadata": {},
     "output_type": "execute_result"
    }
   ],
   "source": [
    "sum(anoms)/len(anoms)"
   ]
  }
 ],
 "metadata": {
  "kernelspec": {
   "display_name": "Python 3.7.13 ('flow1')",
   "language": "python",
   "name": "python3"
  },
  "language_info": {
   "codemirror_mode": {
    "name": "ipython",
    "version": 3
   },
   "file_extension": ".py",
   "mimetype": "text/x-python",
   "name": "python",
   "nbconvert_exporter": "python",
   "pygments_lexer": "ipython3",
   "version": "3.7.13"
  },
  "orig_nbformat": 4,
  "vscode": {
   "interpreter": {
    "hash": "02b713c2907d9ec3e75f9997c30821fa46485eb357aca116b67f32755273915a"
   }
  }
 },
 "nbformat": 4,
 "nbformat_minor": 2
}
