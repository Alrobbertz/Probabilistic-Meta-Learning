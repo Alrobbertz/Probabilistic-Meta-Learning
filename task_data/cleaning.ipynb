{
 "cells": [
  {
   "cell_type": "code",
   "execution_count": 1,
   "metadata": {},
   "outputs": [],
   "source": [
    "\n",
    "import os\n",
    "import sys\n",
    "import json as json\n",
    "import pandas as pd\n",
    "\n",
    "# General Paths\n",
    "data_path = os.getcwd()\n",
    "project_path = os.path.dirname(data_path)\n",
    "benchmarks_path = os.path.join(project_path, 'benchmarks')\n",
    "\n",
    "NAB_path = os.path.join(benchmarks_path, 'NAB')\n",
    "NAB_dataset = os.path.join(NAB_path, 'data')\n",
    "\n",
    "SKAB_path = os.path.join(benchmarks_path, 'SKAB')\n",
    "SKAB_dataset = os.path.join(SKAB_path, 'data')\n"
   ]
  },
  {
   "cell_type": "code",
   "execution_count": 2,
   "metadata": {},
   "outputs": [],
   "source": [
    "# Load the Task Manifest\n",
    "task_manifest = {}\n",
    "with open(\"task_manifest.json\") as f:\n",
    "    task_manifest = json.load(f)\n"
   ]
  },
  {
   "cell_type": "code",
   "execution_count": 3,
   "metadata": {},
   "outputs": [],
   "source": [
    "# Datasets\n",
    "datasets = {\n",
    "    'NAB': {\n",
    "        'path': NAB_dataset,\n",
    "        # 'labels': get_nab_labels,\n",
    "        'ts_name': 'timestamp'\n",
    "    },\n",
    "    'SKAB': {\n",
    "        'path': SKAB_dataset,\n",
    "        # 'labels': get_scab_labels,\n",
    "        'ts_name': 'datetime'\n",
    "    }\n",
    "}\n"
   ]
  },
  {
   "cell_type": "code",
   "execution_count": 9,
   "metadata": {},
   "outputs": [],
   "source": [
    "# Loop through each of the individual Tasks in the Dataset\n",
    "for task_name, task_data in task_manifest.items():\n",
    "    # Make the Directory for the Task\n",
    "    proml_task = os.path.join(data_path, task_name)\n",
    "    if not os.path.exists(proml_task):\n",
    "        os.makedirs(proml_task)\n",
    "\n",
    "    # Loop through the Data Files in the Task Dataset\n",
    "    task_items = 0\n",
    "    task_path = os.path.join(datasets[task_data['dataset']]['path'], task_data['name'])\n",
    "    for i, task_file in enumerate(os.listdir(task_path)):\n",
    "        task_file_path = os.path.join(task_path, task_file)\n",
    "        task_df = pd.read_csv(task_file_path)\n",
    "\n",
    "        # Do Any Datset Cleaning we want\n",
    "        task_df.rename({datasets[task_data['dataset']]['ts_name']: 'timestamp'}, inplace=True)\n",
    "\n",
    "        # Save the Dataframe to a new ProML folder\n",
    "        proml_task_path = os.path.join(proml_task)\n",
    "        proml_file_path = os.path.join(proml_task_path, f'{i}.csv')\n",
    "        task_df.to_csv(proml_file_path, index=False)\n"
   ]
  },
  {
   "cell_type": "code",
   "execution_count": null,
   "metadata": {},
   "outputs": [],
   "source": []
  },
  {
   "cell_type": "code",
   "execution_count": null,
   "metadata": {},
   "outputs": [],
   "source": []
  }
 ],
 "metadata": {
  "kernelspec": {
   "display_name": "Python 3.9.4 ('streamlit')",
   "language": "python",
   "name": "python3"
  },
  "language_info": {
   "codemirror_mode": {
    "name": "ipython",
    "version": 3
   },
   "file_extension": ".py",
   "mimetype": "text/x-python",
   "name": "python",
   "nbconvert_exporter": "python",
   "pygments_lexer": "ipython3",
   "version": "3.9.4"
  },
  "orig_nbformat": 4,
  "vscode": {
   "interpreter": {
    "hash": "05771ddf6cc9808c65ecfecedb17ea5107db21b280be39de8744520a2f3b8896"
   }
  }
 },
 "nbformat": 4,
 "nbformat_minor": 2
}
